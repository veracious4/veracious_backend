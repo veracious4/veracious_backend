{
 "cells": [
  {
   "cell_type": "code",
   "execution_count": 32,
   "metadata": {},
   "outputs": [],
   "source": [
    "import pandas as pd\n",
    "import numpy as np\n",
    "from nltk.tokenize import word_tokenize\n",
    "from nltk  import pos_tag\n",
    "from nltk.stem import WordNetLemmatizer, PorterStemmer\n",
    "from sklearn.preprocessing import LabelEncoder\n",
    "from collections import defaultdict\n",
    "from nltk.corpus import wordnet as wn, stopwords\n",
    "from sklearn.feature_extraction.text import TfidfVectorizer\n",
    "from sklearn import model_selection, naive_bayes, svm\n",
    "from sklearn.metrics import accuracy_score\n",
    "from sklearn.decomposition import PCA\n",
    "import matplotlib.pyplot as plt\n",
    "from scipy.sparse import hstack"
   ]
  },
  {
   "cell_type": "code",
   "execution_count": 2,
   "metadata": {},
   "outputs": [],
   "source": [
    "np.random.seed(500)"
   ]
  },
  {
   "cell_type": "code",
   "execution_count": 3,
   "metadata": {},
   "outputs": [],
   "source": [
    "train_corpus = pd.read_csv(r\"./data/PUBHEALTH/train.tsv\", sep='\\t')\n",
    "test_corpus = pd.read_csv(r\"./data/PUBHEALTH/test.tsv\", sep='\\t')\n",
    "dev_corpus = pd.read_csv(r\"./data/PUBHEALTH/dev.tsv\", sep='\\t')"
   ]
  },
  {
   "cell_type": "code",
   "execution_count": 4,
   "metadata": {},
   "outputs": [
    {
     "data": {
      "text/html": [
       "<div>\n",
       "<style scoped>\n",
       "    .dataframe tbody tr th:only-of-type {\n",
       "        vertical-align: middle;\n",
       "    }\n",
       "\n",
       "    .dataframe tbody tr th {\n",
       "        vertical-align: top;\n",
       "    }\n",
       "\n",
       "    .dataframe thead th {\n",
       "        text-align: right;\n",
       "    }\n",
       "</style>\n",
       "<table border=\"1\" class=\"dataframe\">\n",
       "  <thead>\n",
       "    <tr style=\"text-align: right;\">\n",
       "      <th></th>\n",
       "      <th>claim_id</th>\n",
       "      <th>claim</th>\n",
       "      <th>date_published</th>\n",
       "      <th>explanation</th>\n",
       "      <th>fact_checkers</th>\n",
       "      <th>main_text</th>\n",
       "      <th>sources</th>\n",
       "      <th>label</th>\n",
       "      <th>subjects</th>\n",
       "    </tr>\n",
       "  </thead>\n",
       "  <tbody>\n",
       "    <tr>\n",
       "      <th>0</th>\n",
       "      <td>15661</td>\n",
       "      <td>\"The money the Clinton Foundation took from fr...</td>\n",
       "      <td>April 26, 2015</td>\n",
       "      <td>\"Gingrich said the Clinton Foundation \"\"took m...</td>\n",
       "      <td>Katie Sanders</td>\n",
       "      <td>\"Hillary Clinton is in the political crosshair...</td>\n",
       "      <td>https://www.wsj.com/articles/clinton-foundatio...</td>\n",
       "      <td>false</td>\n",
       "      <td>Foreign Policy, PunditFact, Newt Gingrich,</td>\n",
       "    </tr>\n",
       "    <tr>\n",
       "      <th>1</th>\n",
       "      <td>9893</td>\n",
       "      <td>Annual Mammograms May Have More False-Positives</td>\n",
       "      <td>October 18, 2011</td>\n",
       "      <td>This article reports on the results of a study...</td>\n",
       "      <td></td>\n",
       "      <td>While the financial costs of screening mammogr...</td>\n",
       "      <td></td>\n",
       "      <td>mixture</td>\n",
       "      <td>Screening,WebMD,women's health</td>\n",
       "    </tr>\n",
       "    <tr>\n",
       "      <th>2</th>\n",
       "      <td>11358</td>\n",
       "      <td>SBRT Offers Prostate Cancer Patients High Canc...</td>\n",
       "      <td>September 28, 2016</td>\n",
       "      <td>This news release describes five-year outcomes...</td>\n",
       "      <td>Mary Chris Jaklevic,Steven J. Atlas, MD, MPH,K...</td>\n",
       "      <td>The news release quotes lead researcher Robert...</td>\n",
       "      <td>https://www.healthnewsreview.org/wp-content/up...</td>\n",
       "      <td>mixture</td>\n",
       "      <td>Association/Society news release,Cancer</td>\n",
       "    </tr>\n",
       "    <tr>\n",
       "      <th>3</th>\n",
       "      <td>10166</td>\n",
       "      <td>Study: Vaccine for Breast, Ovarian Cancer Has ...</td>\n",
       "      <td>November 8, 2011</td>\n",
       "      <td>While the story does many things well, the ove...</td>\n",
       "      <td></td>\n",
       "      <td>The story does discuss costs, but the framing ...</td>\n",
       "      <td>http://clinicaltrials.gov/ct2/results?term=can...</td>\n",
       "      <td>true</td>\n",
       "      <td>Cancer,WebMD,women's health</td>\n",
       "    </tr>\n",
       "    <tr>\n",
       "      <th>4</th>\n",
       "      <td>11276</td>\n",
       "      <td>Some appendicitis cases may not require ’emerg...</td>\n",
       "      <td>September 20, 2010</td>\n",
       "      <td>We really don’t understand why only a handful ...</td>\n",
       "      <td></td>\n",
       "      <td>\"Although the story didn’t cite the cost of ap...</td>\n",
       "      <td></td>\n",
       "      <td>true</td>\n",
       "      <td></td>\n",
       "    </tr>\n",
       "  </tbody>\n",
       "</table>\n",
       "</div>"
      ],
      "text/plain": [
       "  claim_id                                              claim  \\\n",
       "0    15661  \"The money the Clinton Foundation took from fr...   \n",
       "1     9893    Annual Mammograms May Have More False-Positives   \n",
       "2    11358  SBRT Offers Prostate Cancer Patients High Canc...   \n",
       "3    10166  Study: Vaccine for Breast, Ovarian Cancer Has ...   \n",
       "4    11276  Some appendicitis cases may not require ’emerg...   \n",
       "\n",
       "       date_published                                        explanation  \\\n",
       "0      April 26, 2015  \"Gingrich said the Clinton Foundation \"\"took m...   \n",
       "1    October 18, 2011  This article reports on the results of a study...   \n",
       "2  September 28, 2016  This news release describes five-year outcomes...   \n",
       "3    November 8, 2011  While the story does many things well, the ove...   \n",
       "4  September 20, 2010  We really don’t understand why only a handful ...   \n",
       "\n",
       "                                       fact_checkers  \\\n",
       "0                                      Katie Sanders   \n",
       "1                                                      \n",
       "2  Mary Chris Jaklevic,Steven J. Atlas, MD, MPH,K...   \n",
       "3                                                      \n",
       "4                                                      \n",
       "\n",
       "                                           main_text  \\\n",
       "0  \"Hillary Clinton is in the political crosshair...   \n",
       "1  While the financial costs of screening mammogr...   \n",
       "2  The news release quotes lead researcher Robert...   \n",
       "3  The story does discuss costs, but the framing ...   \n",
       "4  \"Although the story didn’t cite the cost of ap...   \n",
       "\n",
       "                                             sources    label  \\\n",
       "0  https://www.wsj.com/articles/clinton-foundatio...    false   \n",
       "1                                                     mixture   \n",
       "2  https://www.healthnewsreview.org/wp-content/up...  mixture   \n",
       "3  http://clinicaltrials.gov/ct2/results?term=can...     true   \n",
       "4                                                        true   \n",
       "\n",
       "                                      subjects  \n",
       "0  Foreign Policy, PunditFact, Newt Gingrich,   \n",
       "1               Screening,WebMD,women's health  \n",
       "2      Association/Society news release,Cancer  \n",
       "3                  Cancer,WebMD,women's health  \n",
       "4                                               "
      ]
     },
     "execution_count": 4,
     "metadata": {},
     "output_type": "execute_result"
    }
   ],
   "source": [
    "train_corpus.head()"
   ]
  },
  {
   "cell_type": "code",
   "execution_count": 5,
   "metadata": {},
   "outputs": [
    {
     "data": {
      "text/html": [
       "<div>\n",
       "<style scoped>\n",
       "    .dataframe tbody tr th:only-of-type {\n",
       "        vertical-align: middle;\n",
       "    }\n",
       "\n",
       "    .dataframe tbody tr th {\n",
       "        vertical-align: top;\n",
       "    }\n",
       "\n",
       "    .dataframe thead th {\n",
       "        text-align: right;\n",
       "    }\n",
       "</style>\n",
       "<table border=\"1\" class=\"dataframe\">\n",
       "  <thead>\n",
       "    <tr style=\"text-align: right;\">\n",
       "      <th></th>\n",
       "      <th>claim_id</th>\n",
       "      <th>claim</th>\n",
       "      <th>date_published</th>\n",
       "      <th>explanation</th>\n",
       "      <th>fact_checkers</th>\n",
       "      <th>main_text</th>\n",
       "      <th>sources</th>\n",
       "      <th>label</th>\n",
       "      <th>subjects</th>\n",
       "    </tr>\n",
       "  </thead>\n",
       "  <tbody>\n",
       "    <tr>\n",
       "      <th>0</th>\n",
       "      <td>33456</td>\n",
       "      <td>A mother revealed to her child in a letter aft...</td>\n",
       "      <td>November 6, 2011</td>\n",
       "      <td>The one-eyed mother story expounds upon two mo...</td>\n",
       "      <td>David Mikkelson</td>\n",
       "      <td>In April 2005, we spotted a tearjerker on the ...</td>\n",
       "      <td></td>\n",
       "      <td>false</td>\n",
       "      <td>Glurge Gallery</td>\n",
       "    </tr>\n",
       "    <tr>\n",
       "      <th>1</th>\n",
       "      <td>2542</td>\n",
       "      <td>Study says too many Americans still drink too ...</td>\n",
       "      <td>February 25, 2013</td>\n",
       "      <td>On any given day in the United States, 18 perc...</td>\n",
       "      <td></td>\n",
       "      <td>That means the great majority of Americans sta...</td>\n",
       "      <td>http://bit.ly/X1NVtW</td>\n",
       "      <td>true</td>\n",
       "      <td>Health News</td>\n",
       "    </tr>\n",
       "    <tr>\n",
       "      <th>2</th>\n",
       "      <td>26678</td>\n",
       "      <td>Viral image Says 80% of novel coronavirus case...</td>\n",
       "      <td>March 13, 2020</td>\n",
       "      <td>The website Information is Beautiful published...</td>\n",
       "      <td>Paul Specht</td>\n",
       "      <td>Amid the spread of the novel coronavirus, many...</td>\n",
       "      <td>https://www.facebook.com/informationisbeautifu...</td>\n",
       "      <td>true</td>\n",
       "      <td>Facebook Fact-checks, Coronavirus, Viral image,</td>\n",
       "    </tr>\n",
       "    <tr>\n",
       "      <th>3</th>\n",
       "      <td>40705</td>\n",
       "      <td>An email says that 9-year old Craig Shergold o...</td>\n",
       "      <td>March 16, 2015</td>\n",
       "      <td>Send greeting or business cards to cancer vict...</td>\n",
       "      <td>Rich Buhler &amp; Staff</td>\n",
       "      <td>Craig Shergold is real and             in 1989...</td>\n",
       "      <td>https://www.reddit.com/submit?url=https%3A%2F%...</td>\n",
       "      <td>false</td>\n",
       "      <td>Inspirational, Pleas</td>\n",
       "    </tr>\n",
       "    <tr>\n",
       "      <th>4</th>\n",
       "      <td>35718</td>\n",
       "      <td>Employees at a Five Guys restaurant in Daphne,...</td>\n",
       "      <td>July 15, 2020</td>\n",
       "      <td>What's undetermined: As of this writing, Five ...</td>\n",
       "      <td>Dan MacGuill</td>\n",
       "      <td>In July 2020, amid a new wave of nationwide pr...</td>\n",
       "      <td></td>\n",
       "      <td>unproven</td>\n",
       "      <td>Law Enforcement</td>\n",
       "    </tr>\n",
       "  </tbody>\n",
       "</table>\n",
       "</div>"
      ],
      "text/plain": [
       "   claim_id                                              claim  \\\n",
       "0     33456  A mother revealed to her child in a letter aft...   \n",
       "1      2542  Study says too many Americans still drink too ...   \n",
       "2     26678  Viral image Says 80% of novel coronavirus case...   \n",
       "3     40705  An email says that 9-year old Craig Shergold o...   \n",
       "4     35718  Employees at a Five Guys restaurant in Daphne,...   \n",
       "\n",
       "      date_published                                        explanation  \\\n",
       "0   November 6, 2011  The one-eyed mother story expounds upon two mo...   \n",
       "1  February 25, 2013  On any given day in the United States, 18 perc...   \n",
       "2     March 13, 2020  The website Information is Beautiful published...   \n",
       "3     March 16, 2015  Send greeting or business cards to cancer vict...   \n",
       "4      July 15, 2020  What's undetermined: As of this writing, Five ...   \n",
       "\n",
       "             fact_checkers                                          main_text  \\\n",
       "0          David Mikkelson  In April 2005, we spotted a tearjerker on the ...   \n",
       "1                           That means the great majority of Americans sta...   \n",
       "2              Paul Specht  Amid the spread of the novel coronavirus, many...   \n",
       "3    Rich Buhler & Staff    Craig Shergold is real and             in 1989...   \n",
       "4             Dan MacGuill  In July 2020, amid a new wave of nationwide pr...   \n",
       "\n",
       "                                             sources     label  \\\n",
       "0                                                        false   \n",
       "1                               http://bit.ly/X1NVtW      true   \n",
       "2  https://www.facebook.com/informationisbeautifu...      true   \n",
       "3  https://www.reddit.com/submit?url=https%3A%2F%...     false   \n",
       "4                                                     unproven   \n",
       "\n",
       "                                           subjects  \n",
       "0                                    Glurge Gallery  \n",
       "1                                       Health News  \n",
       "2  Facebook Fact-checks, Coronavirus, Viral image,   \n",
       "3                              Inspirational, Pleas  \n",
       "4                                   Law Enforcement  "
      ]
     },
     "execution_count": 5,
     "metadata": {},
     "output_type": "execute_result"
    }
   ],
   "source": [
    "test_corpus.head()"
   ]
  },
  {
   "cell_type": "code",
   "execution_count": 38,
   "metadata": {},
   "outputs": [
    {
     "data": {
      "text/html": [
       "<div>\n",
       "<style scoped>\n",
       "    .dataframe tbody tr th:only-of-type {\n",
       "        vertical-align: middle;\n",
       "    }\n",
       "\n",
       "    .dataframe tbody tr th {\n",
       "        vertical-align: top;\n",
       "    }\n",
       "\n",
       "    .dataframe thead th {\n",
       "        text-align: right;\n",
       "    }\n",
       "</style>\n",
       "<table border=\"1\" class=\"dataframe\">\n",
       "  <thead>\n",
       "    <tr style=\"text-align: right;\">\n",
       "      <th></th>\n",
       "      <th>claim_id</th>\n",
       "      <th>claim</th>\n",
       "      <th>date_published</th>\n",
       "      <th>explanation</th>\n",
       "      <th>fact_checkers</th>\n",
       "      <th>main_text</th>\n",
       "      <th>sources</th>\n",
       "      <th>label</th>\n",
       "      <th>subjects</th>\n",
       "    </tr>\n",
       "  </thead>\n",
       "  <tbody>\n",
       "    <tr>\n",
       "      <th>0</th>\n",
       "      <td>34656</td>\n",
       "      <td>A baby died at an unnamed medical facility be...</td>\n",
       "      <td>November 10, 2015</td>\n",
       "      <td>Fellow Twitter users suggested @FierceFemtivis...</td>\n",
       "      <td>Kim LaCapria</td>\n",
       "      <td>On 8 November 2015, former Twitter user @Fierc...</td>\n",
       "      <td>http://webcache.googleusercontent.com/search?q...</td>\n",
       "      <td>unproven</td>\n",
       "      <td>Politics, fiercefemtivist, racism</td>\n",
       "    </tr>\n",
       "    <tr>\n",
       "      <th>1</th>\n",
       "      <td>3632</td>\n",
       "      <td>Bat from Shawnee County tests positive for rab...</td>\n",
       "      <td>NaN</td>\n",
       "      <td>A bat found in northeastern Kansas has tested ...</td>\n",
       "      <td></td>\n",
       "      <td>Topeka television station KSNT reports that th...</td>\n",
       "      <td>https://www.ksnt.com/news/bat-tests-positive-f...</td>\n",
       "      <td>true</td>\n",
       "      <td>Rabies, Health, General News, Kansas, Bats, To...</td>\n",
       "    </tr>\n",
       "    <tr>\n",
       "      <th>2</th>\n",
       "      <td>29558</td>\n",
       "      <td>Germany has banned pork from school canteens b...</td>\n",
       "      <td>March 7, 2016</td>\n",
       "      <td>What's true: Some politicians complained that ...</td>\n",
       "      <td>Kim LaCapria</td>\n",
       "      <td>On 7 March 2016, British tabloid Express repor...</td>\n",
       "      <td>http://bnp.org.uk/news/regional/bnp-victory-br...</td>\n",
       "      <td>false</td>\n",
       "      <td>Politics</td>\n",
       "    </tr>\n",
       "    <tr>\n",
       "      <th>3</th>\n",
       "      <td>8416</td>\n",
       "      <td>Coronavirus prompts Canada to roll out safe dr...</td>\n",
       "      <td>April 16, 2020</td>\n",
       "      <td>Canada’s Pacific province of British Columbia ...</td>\n",
       "      <td>Tessa Vikander</td>\n",
       "      <td>In March, the Canadian government urged provin...</td>\n",
       "      <td></td>\n",
       "      <td>true</td>\n",
       "      <td>Health News</td>\n",
       "    </tr>\n",
       "    <tr>\n",
       "      <th>4</th>\n",
       "      <td>7169</td>\n",
       "      <td>Wayne National Forest plans fires for tree, wi...</td>\n",
       "      <td>NaN</td>\n",
       "      <td>Nearly 2,000 acres of Wayne National Forest in...</td>\n",
       "      <td></td>\n",
       "      <td>Forest officials say scientists who study nati...</td>\n",
       "      <td></td>\n",
       "      <td>true</td>\n",
       "      <td>Plants, Wildlife, Health, Wildlife health, For...</td>\n",
       "    </tr>\n",
       "  </tbody>\n",
       "</table>\n",
       "</div>"
      ],
      "text/plain": [
       "  claim_id                                              claim  \\\n",
       "0    34656   A baby died at an unnamed medical facility be...   \n",
       "1     3632  Bat from Shawnee County tests positive for rab...   \n",
       "2    29558  Germany has banned pork from school canteens b...   \n",
       "3     8416  Coronavirus prompts Canada to roll out safe dr...   \n",
       "4     7169  Wayne National Forest plans fires for tree, wi...   \n",
       "\n",
       "      date_published                                        explanation  \\\n",
       "0  November 10, 2015  Fellow Twitter users suggested @FierceFemtivis...   \n",
       "1                NaN  A bat found in northeastern Kansas has tested ...   \n",
       "2      March 7, 2016  What's true: Some politicians complained that ...   \n",
       "3     April 16, 2020  Canada’s Pacific province of British Columbia ...   \n",
       "4                NaN  Nearly 2,000 acres of Wayne National Forest in...   \n",
       "\n",
       "    fact_checkers                                          main_text  \\\n",
       "0    Kim LaCapria  On 8 November 2015, former Twitter user @Fierc...   \n",
       "1                  Topeka television station KSNT reports that th...   \n",
       "2    Kim LaCapria  On 7 March 2016, British tabloid Express repor...   \n",
       "3  Tessa Vikander  In March, the Canadian government urged provin...   \n",
       "4                  Forest officials say scientists who study nati...   \n",
       "\n",
       "                                             sources     label  \\\n",
       "0  http://webcache.googleusercontent.com/search?q...  unproven   \n",
       "1  https://www.ksnt.com/news/bat-tests-positive-f...      true   \n",
       "2  http://bnp.org.uk/news/regional/bnp-victory-br...     false   \n",
       "3                                                         true   \n",
       "4                                                         true   \n",
       "\n",
       "                                            subjects  \n",
       "0                  Politics, fiercefemtivist, racism  \n",
       "1  Rabies, Health, General News, Kansas, Bats, To...  \n",
       "2                                           Politics  \n",
       "3                                        Health News  \n",
       "4  Plants, Wildlife, Health, Wildlife health, For...  "
      ]
     },
     "execution_count": 38,
     "metadata": {},
     "output_type": "execute_result"
    }
   ],
   "source": [
    "dev_corpus.head()"
   ]
  },
  {
   "cell_type": "code",
   "execution_count": 11,
   "metadata": {},
   "outputs": [
    {
     "data": {
      "text/html": [
       "<div>\n",
       "<style scoped>\n",
       "    .dataframe tbody tr th:only-of-type {\n",
       "        vertical-align: middle;\n",
       "    }\n",
       "\n",
       "    .dataframe tbody tr th {\n",
       "        vertical-align: top;\n",
       "    }\n",
       "\n",
       "    .dataframe thead th {\n",
       "        text-align: right;\n",
       "    }\n",
       "</style>\n",
       "<table border=\"1\" class=\"dataframe\">\n",
       "  <thead>\n",
       "    <tr style=\"text-align: right;\">\n",
       "      <th></th>\n",
       "      <th>claim_id</th>\n",
       "      <th>claim</th>\n",
       "      <th>date_published</th>\n",
       "      <th>explanation</th>\n",
       "      <th>fact_checkers</th>\n",
       "      <th>main_text</th>\n",
       "      <th>sources</th>\n",
       "      <th>label</th>\n",
       "      <th>subjects</th>\n",
       "    </tr>\n",
       "  </thead>\n",
       "  <tbody>\n",
       "    <tr>\n",
       "      <th>0</th>\n",
       "      <td>34656</td>\n",
       "      <td>A baby died at an unnamed medical facility be...</td>\n",
       "      <td>November 10, 2015</td>\n",
       "      <td>Fellow Twitter users suggested @FierceFemtivis...</td>\n",
       "      <td>Kim LaCapria</td>\n",
       "      <td>On 8 November 2015, former Twitter user @Fierc...</td>\n",
       "      <td>http://webcache.googleusercontent.com/search?q...</td>\n",
       "      <td>unproven</td>\n",
       "      <td>Politics, fiercefemtivist, racism</td>\n",
       "    </tr>\n",
       "    <tr>\n",
       "      <th>1</th>\n",
       "      <td>3632</td>\n",
       "      <td>Bat from Shawnee County tests positive for rab...</td>\n",
       "      <td>NaN</td>\n",
       "      <td>A bat found in northeastern Kansas has tested ...</td>\n",
       "      <td></td>\n",
       "      <td>Topeka television station KSNT reports that th...</td>\n",
       "      <td>https://www.ksnt.com/news/bat-tests-positive-f...</td>\n",
       "      <td>true</td>\n",
       "      <td>Rabies, Health, General News, Kansas, Bats, To...</td>\n",
       "    </tr>\n",
       "    <tr>\n",
       "      <th>2</th>\n",
       "      <td>29558</td>\n",
       "      <td>Germany has banned pork from school canteens b...</td>\n",
       "      <td>March 7, 2016</td>\n",
       "      <td>What's true: Some politicians complained that ...</td>\n",
       "      <td>Kim LaCapria</td>\n",
       "      <td>On 7 March 2016, British tabloid Express repor...</td>\n",
       "      <td>http://bnp.org.uk/news/regional/bnp-victory-br...</td>\n",
       "      <td>false</td>\n",
       "      <td>Politics</td>\n",
       "    </tr>\n",
       "    <tr>\n",
       "      <th>3</th>\n",
       "      <td>8416</td>\n",
       "      <td>Coronavirus prompts Canada to roll out safe dr...</td>\n",
       "      <td>April 16, 2020</td>\n",
       "      <td>Canada’s Pacific province of British Columbia ...</td>\n",
       "      <td>Tessa Vikander</td>\n",
       "      <td>In March, the Canadian government urged provin...</td>\n",
       "      <td></td>\n",
       "      <td>true</td>\n",
       "      <td>Health News</td>\n",
       "    </tr>\n",
       "    <tr>\n",
       "      <th>4</th>\n",
       "      <td>7169</td>\n",
       "      <td>Wayne National Forest plans fires for tree, wi...</td>\n",
       "      <td>NaN</td>\n",
       "      <td>Nearly 2,000 acres of Wayne National Forest in...</td>\n",
       "      <td></td>\n",
       "      <td>Forest officials say scientists who study nati...</td>\n",
       "      <td></td>\n",
       "      <td>true</td>\n",
       "      <td>Plants, Wildlife, Health, Wildlife health, For...</td>\n",
       "    </tr>\n",
       "  </tbody>\n",
       "</table>\n",
       "</div>"
      ],
      "text/plain": [
       "  claim_id                                              claim  \\\n",
       "0    34656   A baby died at an unnamed medical facility be...   \n",
       "1     3632  Bat from Shawnee County tests positive for rab...   \n",
       "2    29558  Germany has banned pork from school canteens b...   \n",
       "3     8416  Coronavirus prompts Canada to roll out safe dr...   \n",
       "4     7169  Wayne National Forest plans fires for tree, wi...   \n",
       "\n",
       "      date_published                                        explanation  \\\n",
       "0  November 10, 2015  Fellow Twitter users suggested @FierceFemtivis...   \n",
       "1                NaN  A bat found in northeastern Kansas has tested ...   \n",
       "2      March 7, 2016  What's true: Some politicians complained that ...   \n",
       "3     April 16, 2020  Canada’s Pacific province of British Columbia ...   \n",
       "4                NaN  Nearly 2,000 acres of Wayne National Forest in...   \n",
       "\n",
       "    fact_checkers                                          main_text  \\\n",
       "0    Kim LaCapria  On 8 November 2015, former Twitter user @Fierc...   \n",
       "1                  Topeka television station KSNT reports that th...   \n",
       "2    Kim LaCapria  On 7 March 2016, British tabloid Express repor...   \n",
       "3  Tessa Vikander  In March, the Canadian government urged provin...   \n",
       "4                  Forest officials say scientists who study nati...   \n",
       "\n",
       "                                             sources     label  \\\n",
       "0  http://webcache.googleusercontent.com/search?q...  unproven   \n",
       "1  https://www.ksnt.com/news/bat-tests-positive-f...      true   \n",
       "2  http://bnp.org.uk/news/regional/bnp-victory-br...     false   \n",
       "3                                                         true   \n",
       "4                                                         true   \n",
       "\n",
       "                                            subjects  \n",
       "0                  Politics, fiercefemtivist, racism  \n",
       "1  Rabies, Health, General News, Kansas, Bats, To...  \n",
       "2                                           Politics  \n",
       "3                                        Health News  \n",
       "4  Plants, Wildlife, Health, Wildlife health, For...  "
      ]
     },
     "execution_count": 11,
     "metadata": {},
     "output_type": "execute_result"
    }
   ],
   "source": [
    "dev_corpus.head()"
   ]
  },
  {
   "cell_type": "code",
   "execution_count": 9,
   "metadata": {},
   "outputs": [],
   "source": [
    "train_corpus = pd.concat([train_corpus, dev_corpus], ignore_index=True)"
   ]
  },
  {
   "cell_type": "code",
   "execution_count": 12,
   "metadata": {},
   "outputs": [
    {
     "data": {
      "text/plain": [
       "(11053, 9)"
      ]
     },
     "execution_count": 12,
     "metadata": {},
     "output_type": "execute_result"
    }
   ],
   "source": [
    "train_corpus.shape"
   ]
  },
  {
   "cell_type": "code",
   "execution_count": 13,
   "metadata": {},
   "outputs": [],
   "source": [
    "fact_categories = ['false', 'mixture', 'true', 'unproven']\n",
    "\n",
    "def clean_PUBHEALTH_data(corpus):\n",
    "    '''Removes unnecessary columns and rows from the PUBHEALTH dataset'''\n",
    "\n",
    "    corpus.drop(['fact_checkers', 'claim_id', 'sources', 'date_published', 'explanation'], axis=1, inplace=True)\n",
    "    corpus.dropna(inplace=True)\n",
    "    corpus = corpus.drop_duplicates()\n",
    "    corpus['label'] = corpus['label'].str.lower().str.strip()\n",
    "    corpus = corpus[corpus['label'].isin(fact_categories)]\n",
    "\n",
    "    return corpus\n",
    "\n",
    "def filter_PUBHEALTH_medical_data(cleanedCorpus):\n",
    "    '''Filters the PUBHEALTH dataset to only include medical claims, and removes unnecessary columns'''\n",
    "    medical_data = cleanedCorpus[-cleanedCorpus['subjects'].str.lower().str.contains(\n",
    "                                    'foreign policy|political|social|economy|religion|religious|culture|sport|sports|entertainment|other')]\n",
    "    medical_data.drop(['subjects'], axis=1, inplace=True)\n",
    "    return medical_data\n",
    "    \n",
    "    "
   ]
  },
  {
   "cell_type": "code",
   "execution_count": 14,
   "metadata": {},
   "outputs": [
    {
     "name": "stderr",
     "output_type": "stream",
     "text": [
      "C:\\Users\\Asus\\AppData\\Local\\Temp\\ipykernel_61180\\1571555990.py:18: SettingWithCopyWarning: \n",
      "A value is trying to be set on a copy of a slice from a DataFrame\n",
      "\n",
      "See the caveats in the documentation: https://pandas.pydata.org/pandas-docs/stable/user_guide/indexing.html#returning-a-view-versus-a-copy\n",
      "  medical_data.drop(['subjects'], axis=1, inplace=True)\n",
      "C:\\Users\\Asus\\AppData\\Local\\Temp\\ipykernel_61180\\1571555990.py:18: SettingWithCopyWarning: \n",
      "A value is trying to be set on a copy of a slice from a DataFrame\n",
      "\n",
      "See the caveats in the documentation: https://pandas.pydata.org/pandas-docs/stable/user_guide/indexing.html#returning-a-view-versus-a-copy\n",
      "  medical_data.drop(['subjects'], axis=1, inplace=True)\n"
     ]
    }
   ],
   "source": [
    "train_corpus = clean_PUBHEALTH_data(train_corpus)\n",
    "test_corpus = clean_PUBHEALTH_data(test_corpus)\n",
    "medical_data_train = filter_PUBHEALTH_medical_data(train_corpus)\n",
    "medical_data_test = filter_PUBHEALTH_medical_data(test_corpus)"
   ]
  },
  {
   "cell_type": "code",
   "execution_count": 15,
   "metadata": {},
   "outputs": [
    {
     "data": {
      "text/html": [
       "<div>\n",
       "<style scoped>\n",
       "    .dataframe tbody tr th:only-of-type {\n",
       "        vertical-align: middle;\n",
       "    }\n",
       "\n",
       "    .dataframe tbody tr th {\n",
       "        vertical-align: top;\n",
       "    }\n",
       "\n",
       "    .dataframe thead th {\n",
       "        text-align: right;\n",
       "    }\n",
       "</style>\n",
       "<table border=\"1\" class=\"dataframe\">\n",
       "  <thead>\n",
       "    <tr style=\"text-align: right;\">\n",
       "      <th></th>\n",
       "      <th>claim</th>\n",
       "      <th>main_text</th>\n",
       "      <th>label</th>\n",
       "    </tr>\n",
       "  </thead>\n",
       "  <tbody>\n",
       "    <tr>\n",
       "      <th>1</th>\n",
       "      <td>Annual Mammograms May Have More False-Positives</td>\n",
       "      <td>While the financial costs of screening mammogr...</td>\n",
       "      <td>mixture</td>\n",
       "    </tr>\n",
       "    <tr>\n",
       "      <th>2</th>\n",
       "      <td>SBRT Offers Prostate Cancer Patients High Canc...</td>\n",
       "      <td>The news release quotes lead researcher Robert...</td>\n",
       "      <td>mixture</td>\n",
       "    </tr>\n",
       "    <tr>\n",
       "      <th>3</th>\n",
       "      <td>Study: Vaccine for Breast, Ovarian Cancer Has ...</td>\n",
       "      <td>The story does discuss costs, but the framing ...</td>\n",
       "      <td>true</td>\n",
       "    </tr>\n",
       "    <tr>\n",
       "      <th>4</th>\n",
       "      <td>Some appendicitis cases may not require ’emerg...</td>\n",
       "      <td>\"Although the story didn’t cite the cost of ap...</td>\n",
       "      <td>true</td>\n",
       "    </tr>\n",
       "    <tr>\n",
       "      <th>5</th>\n",
       "      <td>Britain to reveal trial criteria for coronavir...</td>\n",
       "      <td>Antibody tests show whether whether people hav...</td>\n",
       "      <td>true</td>\n",
       "    </tr>\n",
       "    <tr>\n",
       "      <th>...</th>\n",
       "      <td>...</td>\n",
       "      <td>...</td>\n",
       "      <td>...</td>\n",
       "    </tr>\n",
       "    <tr>\n",
       "      <th>11046</th>\n",
       "      <td>A social media post correctly contextualizes t...</td>\n",
       "      <td>In August 2019, a Facebook post about the Unit...</td>\n",
       "      <td>false</td>\n",
       "    </tr>\n",
       "    <tr>\n",
       "      <th>11049</th>\n",
       "      <td>The state of Florida has seen \"double-digit dr...</td>\n",
       "      <td>As the Legislature considers changing rules fo...</td>\n",
       "      <td>true</td>\n",
       "    </tr>\n",
       "    <tr>\n",
       "      <th>11050</th>\n",
       "      <td>Officials probe respiratory illness at Quincy ...</td>\n",
       "      <td>The (Quincy) Herald-Whig reports the departmen...</td>\n",
       "      <td>true</td>\n",
       "    </tr>\n",
       "    <tr>\n",
       "      <th>11051</th>\n",
       "      <td>Sylentis announces the results of tivanisiran ...</td>\n",
       "      <td>There is no discussion of the potential cost o...</td>\n",
       "      <td>mixture</td>\n",
       "    </tr>\n",
       "    <tr>\n",
       "      <th>11052</th>\n",
       "      <td>US regulators clear path for genetically modif...</td>\n",
       "      <td>The Food and Drug Administration said it lifte...</td>\n",
       "      <td>true</td>\n",
       "    </tr>\n",
       "  </tbody>\n",
       "</table>\n",
       "<p>10440 rows × 3 columns</p>\n",
       "</div>"
      ],
      "text/plain": [
       "                                                   claim  \\\n",
       "1        Annual Mammograms May Have More False-Positives   \n",
       "2      SBRT Offers Prostate Cancer Patients High Canc...   \n",
       "3      Study: Vaccine for Breast, Ovarian Cancer Has ...   \n",
       "4      Some appendicitis cases may not require ’emerg...   \n",
       "5      Britain to reveal trial criteria for coronavir...   \n",
       "...                                                  ...   \n",
       "11046  A social media post correctly contextualizes t...   \n",
       "11049  The state of Florida has seen \"double-digit dr...   \n",
       "11050  Officials probe respiratory illness at Quincy ...   \n",
       "11051  Sylentis announces the results of tivanisiran ...   \n",
       "11052  US regulators clear path for genetically modif...   \n",
       "\n",
       "                                               main_text    label  \n",
       "1      While the financial costs of screening mammogr...  mixture  \n",
       "2      The news release quotes lead researcher Robert...  mixture  \n",
       "3      The story does discuss costs, but the framing ...     true  \n",
       "4      \"Although the story didn’t cite the cost of ap...     true  \n",
       "5      Antibody tests show whether whether people hav...     true  \n",
       "...                                                  ...      ...  \n",
       "11046  In August 2019, a Facebook post about the Unit...    false  \n",
       "11049  As the Legislature considers changing rules fo...     true  \n",
       "11050  The (Quincy) Herald-Whig reports the departmen...     true  \n",
       "11051  There is no discussion of the potential cost o...  mixture  \n",
       "11052  The Food and Drug Administration said it lifte...     true  \n",
       "\n",
       "[10440 rows x 3 columns]"
      ]
     },
     "execution_count": 15,
     "metadata": {},
     "output_type": "execute_result"
    }
   ],
   "source": [
    "medical_data_train"
   ]
  },
  {
   "cell_type": "code",
   "execution_count": 17,
   "metadata": {},
   "outputs": [],
   "source": [
    "# medical_data_train.to_csv(r\"./data/PUBHEALTH/medical_data_cleaned_train.tsv\", sep='\\t', index=False)\n",
    "# medical_data_test.to_csv(r\"./data/PUBHEALTH/medical_data_cleaned_test.tsv\", sep='\\t', index=False)"
   ]
  },
  {
   "cell_type": "code",
   "execution_count": null,
   "metadata": {},
   "outputs": [],
   "source": []
  },
  {
   "cell_type": "code",
   "execution_count": 18,
   "metadata": {},
   "outputs": [],
   "source": [
    "# Load datasets\n",
    "medical_data_train = pd.read_csv(r\"./data/PUBHEALTH/medical_data_cleaned_train.tsv\", sep='\\t')\n",
    "medical_data_test = pd.read_csv(r\"./data/PUBHEALTH/medical_data_cleaned_test.tsv\", sep='\\t')"
   ]
  },
  {
   "cell_type": "code",
   "execution_count": 19,
   "metadata": {},
   "outputs": [],
   "source": [
    "input_variables = ['claim', 'main_text']\n",
    "output_variables = ['label']"
   ]
  },
  {
   "cell_type": "code",
   "execution_count": 20,
   "metadata": {},
   "outputs": [],
   "source": [
    "def labelEncodeCategories(dataframe_series):\n",
    "    '''Label encodes the categories in the dataframe series'''\n",
    "    Encoder = LabelEncoder()\n",
    "    dataframe_series = Encoder.fit_transform(dataframe_series)\n",
    "    return dataframe_series"
   ]
  },
  {
   "cell_type": "code",
   "execution_count": 21,
   "metadata": {},
   "outputs": [],
   "source": [
    "medical_data_train['label'] = labelEncodeCategories(medical_data_train['label'])\n",
    "medical_data_test['label'] = labelEncodeCategories(medical_data_test['label'])"
   ]
  },
  {
   "cell_type": "code",
   "execution_count": 22,
   "metadata": {},
   "outputs": [],
   "source": [
    "def performTextPreprocessing(dataframe_series):\n",
    "    '''\n",
    "    This function performs text preprocessing on the dataframe series. It do the following tasks:\n",
    "    1. Tokenize the text\n",
    "    2. Remove stop words\n",
    "    3. Lemmatize the text, and returns the dataframe series, containing lemmatized text in form of a space seperated string\n",
    "    '''\n",
    "    dataframe_series = dataframe_series.str.lower()\n",
    "    \n",
    "    # Word tokenization\n",
    "    dataframe_series = [word_tokenize(text) for text in dataframe_series]\n",
    "\n",
    "    # Remove stop words and non-alphanumeric characters (TODO: -- check how much do we need alphanumeric characters)\n",
    "    stop_words = set(stopwords.words('english'))\n",
    "    dataframe_series = [[word for word in text if word not in stop_words and word.isalpha()] for text in dataframe_series]\n",
    "\n",
    "    # Lemmatization\n",
    "    lemmatizer = WordNetLemmatizer()\n",
    "    for index, text in enumerate(dataframe_series):\n",
    "        sentence = \"\"\n",
    "        for word in text:\n",
    "            word = lemmatizer.lemmatize(word)\n",
    "            sentence += word + \" \"\n",
    "        sentence = sentence.strip()\n",
    "        dataframe_series[index] = sentence\n",
    "    return dataframe_series"
   ]
  },
  {
   "cell_type": "code",
   "execution_count": 23,
   "metadata": {},
   "outputs": [],
   "source": [
    "tfidf_vectorizer = TfidfVectorizer(max_features=5000)\n",
    "\n",
    "def perform_tfidf_vectorization(preprocessed_dataframe_series, tfidf_vectorizer):\n",
    "    ''' Performs tfidf vectorization on the preprocessed dataframe series'''\n",
    "    return tfidf_vectorizer.fit_transform(preprocessed_dataframe_series)"
   ]
  },
  {
   "cell_type": "code",
   "execution_count": 24,
   "metadata": {},
   "outputs": [
    {
     "data": {
      "text/plain": [
       "(10440, 5000)"
      ]
     },
     "execution_count": 24,
     "metadata": {},
     "output_type": "execute_result"
    }
   ],
   "source": [
    "medical_data_train['claim'] = performTextPreprocessing(medical_data_train['claim'])\n",
    "claim_data_train_vectorizer = perform_tfidf_vectorization(medical_data_train['claim'], tfidf_vectorizer)\n",
    "claim_data_train_vectorizer.shape"
   ]
  },
  {
   "cell_type": "code",
   "execution_count": 25,
   "metadata": {},
   "outputs": [
    {
     "data": {
      "text/plain": [
       "(10440, 5000)"
      ]
     },
     "execution_count": 25,
     "metadata": {},
     "output_type": "execute_result"
    }
   ],
   "source": [
    "medical_data_train['main_text'] = performTextPreprocessing(medical_data_train['main_text'])\n",
    "main_text_data_train_vectorizer = perform_tfidf_vectorization(medical_data_train['main_text'], tfidf_vectorizer)\n",
    "main_text_data_train_vectorizer.shape"
   ]
  },
  {
   "cell_type": "code",
   "execution_count": 26,
   "metadata": {},
   "outputs": [
    {
     "data": {
      "text/html": [
       "<div>\n",
       "<style scoped>\n",
       "    .dataframe tbody tr th:only-of-type {\n",
       "        vertical-align: middle;\n",
       "    }\n",
       "\n",
       "    .dataframe tbody tr th {\n",
       "        vertical-align: top;\n",
       "    }\n",
       "\n",
       "    .dataframe thead th {\n",
       "        text-align: right;\n",
       "    }\n",
       "</style>\n",
       "<table border=\"1\" class=\"dataframe\">\n",
       "  <thead>\n",
       "    <tr style=\"text-align: right;\">\n",
       "      <th></th>\n",
       "      <th>claim</th>\n",
       "      <th>main_text</th>\n",
       "      <th>label</th>\n",
       "    </tr>\n",
       "  </thead>\n",
       "  <tbody>\n",
       "    <tr>\n",
       "      <th>0</th>\n",
       "      <td>annual mammogram may</td>\n",
       "      <td>financial cost screening mammography recall bi...</td>\n",
       "      <td>1</td>\n",
       "    </tr>\n",
       "    <tr>\n",
       "      <th>1</th>\n",
       "      <td>sbrt offer prostate cancer patient high cancer...</td>\n",
       "      <td>news release quote lead researcher robert meie...</td>\n",
       "      <td>1</td>\n",
       "    </tr>\n",
       "    <tr>\n",
       "      <th>2</th>\n",
       "      <td>study vaccine breast ovarian cancer potential</td>\n",
       "      <td>story discus cost framing problematic story ba...</td>\n",
       "      <td>2</td>\n",
       "    </tr>\n",
       "    <tr>\n",
       "      <th>3</th>\n",
       "      <td>appendicitis case may require emergency surgery</td>\n",
       "      <td>although story cite cost appendectomy emergenc...</td>\n",
       "      <td>2</td>\n",
       "    </tr>\n",
       "    <tr>\n",
       "      <th>4</th>\n",
       "      <td>britain reveal trial criterion coronavirus ant...</td>\n",
       "      <td>antibody test show whether whether people infe...</td>\n",
       "      <td>2</td>\n",
       "    </tr>\n",
       "  </tbody>\n",
       "</table>\n",
       "</div>"
      ],
      "text/plain": [
       "                                               claim  \\\n",
       "0                               annual mammogram may   \n",
       "1  sbrt offer prostate cancer patient high cancer...   \n",
       "2      study vaccine breast ovarian cancer potential   \n",
       "3    appendicitis case may require emergency surgery   \n",
       "4  britain reveal trial criterion coronavirus ant...   \n",
       "\n",
       "                                           main_text  label  \n",
       "0  financial cost screening mammography recall bi...      1  \n",
       "1  news release quote lead researcher robert meie...      1  \n",
       "2  story discus cost framing problematic story ba...      2  \n",
       "3  although story cite cost appendectomy emergenc...      2  \n",
       "4  antibody test show whether whether people infe...      2  "
      ]
     },
     "execution_count": 26,
     "metadata": {},
     "output_type": "execute_result"
    }
   ],
   "source": [
    "medical_data_train.head()"
   ]
  },
  {
   "cell_type": "code",
   "execution_count": 27,
   "metadata": {},
   "outputs": [
    {
     "data": {
      "text/plain": [
       "(10440, 10000)"
      ]
     },
     "execution_count": 27,
     "metadata": {},
     "output_type": "execute_result"
    }
   ],
   "source": [
    "# Combining multiple text columns into one\n",
    "appended_X = hstack((claim_data_train_vectorizer, main_text_data_train_vectorizer))\n",
    "X_df = pd.DataFrame(appended_X.toarray())\n",
    "X_df.shape"
   ]
  },
  {
   "cell_type": "code",
   "execution_count": 28,
   "metadata": {},
   "outputs": [],
   "source": [
    "# Form text preprocessing for test data\n",
    "medical_data_test['label'] = labelEncodeCategories(medical_data_test['label'])\n",
    "medical_data_test['claim'] = performTextPreprocessing(medical_data_test['claim'])\n",
    "claim_data_test_vectorizer = perform_tfidf_vectorization(medical_data_test['claim'], tfidf_vectorizer)\n",
    "medical_data_test['main_text'] = performTextPreprocessing(medical_data_test['main_text'])\n",
    "main_text_data_test_vectorizer = perform_tfidf_vectorization(medical_data_test['main_text'], tfidf_vectorizer)\n"
   ]
  },
  {
   "cell_type": "code",
   "execution_count": 40,
   "metadata": {},
   "outputs": [],
   "source": [
    "pca = PCA(n_components=5).fit(X_df)\n",
    "data3D = pca.transform(X_df)"
   ]
  },
  {
   "cell_type": "code",
   "execution_count": 41,
   "metadata": {},
   "outputs": [
    {
     "data": {
      "text/plain": [
       "array([[ 0.15204446, -0.03941411,  0.01891832,  0.19795512,  0.0389014 ],\n",
       "       [ 0.37782425,  0.00929996,  0.37288002,  0.10423492, -0.04338229],\n",
       "       [ 0.54710523,  0.09148529,  0.11066959,  0.26389375,  0.14920142],\n",
       "       ...,\n",
       "       [-0.13912613,  0.12945496,  0.00720397, -0.03249046,  0.05043963],\n",
       "       [ 0.15808699,  0.01551904,  0.10261111, -0.10738241, -0.15849623],\n",
       "       [-0.06001102, -0.01132359,  0.02471988, -0.01695143, -0.10191605]])"
      ]
     },
     "execution_count": 41,
     "metadata": {},
     "output_type": "execute_result"
    }
   ],
   "source": [
    "data3D"
   ]
  },
  {
   "cell_type": "code",
   "execution_count": 42,
   "metadata": {},
   "outputs": [
    {
     "ename": "TypeError",
     "evalue": "scatter() got multiple values for argument 'c'",
     "output_type": "error",
     "traceback": [
      "\u001b[1;31m---------------------------------------------------------------------------\u001b[0m",
      "\u001b[1;31mTypeError\u001b[0m                                 Traceback (most recent call last)",
      "Cell \u001b[1;32mIn [42], line 1\u001b[0m\n\u001b[1;32m----> 1\u001b[0m plt\u001b[39m.\u001b[39;49mscatter(data3D[:,\u001b[39m0\u001b[39;49m], data3D[:,\u001b[39m1\u001b[39;49m], data3D[:,\u001b[39m2\u001b[39;49m], data3D[:,\u001b[39m3\u001b[39;49m], data3D[:,\u001b[39m4\u001b[39;49m], c\u001b[39m=\u001b[39;49mmedical_data_train[\u001b[39m'\u001b[39;49m\u001b[39mlabel\u001b[39;49m\u001b[39m'\u001b[39;49m], cmap\u001b[39m=\u001b[39;49m\u001b[39m'\u001b[39;49m\u001b[39mrainbow\u001b[39;49m\u001b[39m'\u001b[39;49m)\n",
      "\u001b[1;31mTypeError\u001b[0m: scatter() got multiple values for argument 'c'"
     ]
    }
   ],
   "source": [
    "plt.scatter(data3D[:,0], data3D[:,1], data3D[:,2], data3D[:,3], data3D[:,4], c=medical_data_train['label'], cmap='rainbow')"
   ]
  },
  {
   "cell_type": "markdown",
   "metadata": {},
   "source": [
    "### Multinomial Naive Bayes Classifier"
   ]
  },
  {
   "cell_type": "code",
   "execution_count": 64,
   "metadata": {},
   "outputs": [
    {
     "data": {
      "text/html": [
       "<style>#sk-container-id-1 {color: black;background-color: white;}#sk-container-id-1 pre{padding: 0;}#sk-container-id-1 div.sk-toggleable {background-color: white;}#sk-container-id-1 label.sk-toggleable__label {cursor: pointer;display: block;width: 100%;margin-bottom: 0;padding: 0.3em;box-sizing: border-box;text-align: center;}#sk-container-id-1 label.sk-toggleable__label-arrow:before {content: \"▸\";float: left;margin-right: 0.25em;color: #696969;}#sk-container-id-1 label.sk-toggleable__label-arrow:hover:before {color: black;}#sk-container-id-1 div.sk-estimator:hover label.sk-toggleable__label-arrow:before {color: black;}#sk-container-id-1 div.sk-toggleable__content {max-height: 0;max-width: 0;overflow: hidden;text-align: left;background-color: #f0f8ff;}#sk-container-id-1 div.sk-toggleable__content pre {margin: 0.2em;color: black;border-radius: 0.25em;background-color: #f0f8ff;}#sk-container-id-1 input.sk-toggleable__control:checked~div.sk-toggleable__content {max-height: 200px;max-width: 100%;overflow: auto;}#sk-container-id-1 input.sk-toggleable__control:checked~label.sk-toggleable__label-arrow:before {content: \"▾\";}#sk-container-id-1 div.sk-estimator input.sk-toggleable__control:checked~label.sk-toggleable__label {background-color: #d4ebff;}#sk-container-id-1 div.sk-label input.sk-toggleable__control:checked~label.sk-toggleable__label {background-color: #d4ebff;}#sk-container-id-1 input.sk-hidden--visually {border: 0;clip: rect(1px 1px 1px 1px);clip: rect(1px, 1px, 1px, 1px);height: 1px;margin: -1px;overflow: hidden;padding: 0;position: absolute;width: 1px;}#sk-container-id-1 div.sk-estimator {font-family: monospace;background-color: #f0f8ff;border: 1px dotted black;border-radius: 0.25em;box-sizing: border-box;margin-bottom: 0.5em;}#sk-container-id-1 div.sk-estimator:hover {background-color: #d4ebff;}#sk-container-id-1 div.sk-parallel-item::after {content: \"\";width: 100%;border-bottom: 1px solid gray;flex-grow: 1;}#sk-container-id-1 div.sk-label:hover label.sk-toggleable__label {background-color: #d4ebff;}#sk-container-id-1 div.sk-serial::before {content: \"\";position: absolute;border-left: 1px solid gray;box-sizing: border-box;top: 0;bottom: 0;left: 50%;z-index: 0;}#sk-container-id-1 div.sk-serial {display: flex;flex-direction: column;align-items: center;background-color: white;padding-right: 0.2em;padding-left: 0.2em;position: relative;}#sk-container-id-1 div.sk-item {position: relative;z-index: 1;}#sk-container-id-1 div.sk-parallel {display: flex;align-items: stretch;justify-content: center;background-color: white;position: relative;}#sk-container-id-1 div.sk-item::before, #sk-container-id-1 div.sk-parallel-item::before {content: \"\";position: absolute;border-left: 1px solid gray;box-sizing: border-box;top: 0;bottom: 0;left: 50%;z-index: -1;}#sk-container-id-1 div.sk-parallel-item {display: flex;flex-direction: column;z-index: 1;position: relative;background-color: white;}#sk-container-id-1 div.sk-parallel-item:first-child::after {align-self: flex-end;width: 50%;}#sk-container-id-1 div.sk-parallel-item:last-child::after {align-self: flex-start;width: 50%;}#sk-container-id-1 div.sk-parallel-item:only-child::after {width: 0;}#sk-container-id-1 div.sk-dashed-wrapped {border: 1px dashed gray;margin: 0 0.4em 0.5em 0.4em;box-sizing: border-box;padding-bottom: 0.4em;background-color: white;}#sk-container-id-1 div.sk-label label {font-family: monospace;font-weight: bold;display: inline-block;line-height: 1.2em;}#sk-container-id-1 div.sk-label-container {text-align: center;}#sk-container-id-1 div.sk-container {/* jupyter's `normalize.less` sets `[hidden] { display: none; }` but bootstrap.min.css set `[hidden] { display: none !important; }` so we also need the `!important` here to be able to override the default hidden behavior on the sphinx rendered scikit-learn.org. See: https://github.com/scikit-learn/scikit-learn/issues/21755 */display: inline-block !important;position: relative;}#sk-container-id-1 div.sk-text-repr-fallback {display: none;}</style><div id=\"sk-container-id-1\" class=\"sk-top-container\"><div class=\"sk-text-repr-fallback\"><pre>MultinomialNB()</pre><b>In a Jupyter environment, please rerun this cell to show the HTML representation or trust the notebook. <br />On GitHub, the HTML representation is unable to render, please try loading this page with nbviewer.org.</b></div><div class=\"sk-container\" hidden><div class=\"sk-item\"><div class=\"sk-estimator sk-toggleable\"><input class=\"sk-toggleable__control sk-hidden--visually\" id=\"sk-estimator-id-1\" type=\"checkbox\" checked><label for=\"sk-estimator-id-1\" class=\"sk-toggleable__label sk-toggleable__label-arrow\">MultinomialNB</label><div class=\"sk-toggleable__content\"><pre>MultinomialNB()</pre></div></div></div></div></div>"
      ],
      "text/plain": [
       "MultinomialNB()"
      ]
     },
     "execution_count": 64,
     "metadata": {},
     "output_type": "execute_result"
    }
   ],
   "source": [
    "multinomial_nb = naive_bayes.MultinomialNB()\n",
    "multinomial_nb.fit(X_df,  medical_data_train['label'])"
   ]
  },
  {
   "cell_type": "code",
   "execution_count": 65,
   "metadata": {},
   "outputs": [
    {
     "data": {
      "text/plain": [
       "0.7189957978666092"
      ]
     },
     "execution_count": 65,
     "metadata": {},
     "output_type": "execute_result"
    }
   ],
   "source": [
    "multinomial_nb.score(X_df,  medical_data_train['label'])"
   ]
  },
  {
   "cell_type": "code",
   "execution_count": null,
   "metadata": {},
   "outputs": [],
   "source": []
  },
  {
   "cell_type": "markdown",
   "metadata": {},
   "source": [
    "### SVM Classifier"
   ]
  },
  {
   "cell_type": "code",
   "execution_count": 163,
   "metadata": {},
   "outputs": [],
   "source": [
    "svm_classifier = svm.SVC()\n",
    "svm_classifier.fit(X_df,  medical_data_train['label'])"
   ]
  },
  {
   "cell_type": "code",
   "execution_count": null,
   "metadata": {},
   "outputs": [],
   "source": [
    "svm_classifier.score(X_df,  medical_data_train['label'])"
   ]
  }
 ],
 "metadata": {
  "kernelspec": {
   "display_name": "Python 3.8.10 ('backend_env': venv)",
   "language": "python",
   "name": "python3"
  },
  "language_info": {
   "codemirror_mode": {
    "name": "ipython",
    "version": 3
   },
   "file_extension": ".py",
   "mimetype": "text/x-python",
   "name": "python",
   "nbconvert_exporter": "python",
   "pygments_lexer": "ipython3",
   "version": "3.8.10"
  },
  "orig_nbformat": 4,
  "vscode": {
   "interpreter": {
    "hash": "d2bc5c5ba199ed25960fcd204222f8ca913016239c03f7f2e4bc2743a1b1a867"
   }
  }
 },
 "nbformat": 4,
 "nbformat_minor": 2
}
